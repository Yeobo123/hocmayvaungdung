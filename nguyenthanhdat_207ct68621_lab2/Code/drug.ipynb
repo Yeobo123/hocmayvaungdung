{
 "cells": [
  {
   "cell_type": "code",
   "execution_count": 1,
   "metadata": {},
   "outputs": [
    {
     "name": "stdout",
     "output_type": "stream",
     "text": [
      "Dữ liệu ban đầu:\n",
      "   Age Sex      BP Cholesterol  Na_to_K   Drug\n",
      "0   23   F    HIGH        HIGH   25.355  DrugY\n",
      "1   47   M     LOW        HIGH   13.093  drugC\n",
      "2   47   M     LOW        HIGH   10.114  drugC\n",
      "3   28   F  NORMAL        HIGH    7.798  drugX\n",
      "4   61   F     LOW        HIGH   18.043  DrugY\n",
      "\n",
      "Độ chính xác: 0.90\n",
      "\n",
      "Báo cáo phân loại:\n",
      "              precision    recall  f1-score   support\n",
      "\n",
      "       DrugY       1.00      0.77      0.87        26\n",
      "       drugA       0.88      1.00      0.93         7\n",
      "       drugB       0.50      1.00      0.67         3\n",
      "       drugC       0.75      1.00      0.86         6\n",
      "       drugX       1.00      1.00      1.00        18\n",
      "\n",
      "    accuracy                           0.90        60\n",
      "   macro avg       0.82      0.95      0.87        60\n",
      "weighted avg       0.94      0.90      0.90        60\n",
      "\n"
     ]
    }
   ],
   "source": [
    "\n",
    "import pandas as pd\n",
    "from sklearn.model_selection import train_test_split\n",
    "from sklearn.preprocessing import LabelEncoder\n",
    "from sklearn.naive_bayes import GaussianNB\n",
    "from sklearn.metrics import accuracy_score, classification_report\n",
    "# URL của tập tin trên Google Drive\n",
    "url = 'https://drive.google.com/uc?id=1_G8oXkLlsauQkujZzJZJwibAWu5PgBXK'\n",
    "\n",
    "\n",
    "data = pd.read_csv(url)\n",
    "\n",
    "# Hiển thị vài dòng đầu của dữ liệu\n",
    "print(\"Dữ liệu ban đầu:\")\n",
    "print(data.head())\n",
    "\n",
    "# Chuyển đổi các thuộc tính phân loại thành số\n",
    "le_sex = LabelEncoder()\n",
    "le_BP = LabelEncoder()\n",
    "le_Cholesterol = LabelEncoder()\n",
    "\n",
    "data['Sex'] = le_sex.fit_transform(data['Sex'])\n",
    "data['BP'] = le_BP.fit_transform(data['BP'])\n",
    "data['Cholesterol'] = le_Cholesterol.fit_transform(data['Cholesterol'])\n",
    "\n",
    "# Chọn đầu vào (X) và nhãn (y)\n",
    "X = data[['Age', 'Sex', 'BP', 'Cholesterol', 'Na_to_K']]\n",
    "y = data['Drug']\n",
    "\n",
    "# Chia dữ liệu thành tập huấn luyện và tập kiểm tra\n",
    "X_train, X_test, y_train, y_test = train_test_split(X, y, test_size=0.3, random_state=42)\n",
    "\n",
    "# Tạo mô hình Gaussian Naive Bayes\n",
    "model = GaussianNB()\n",
    "\n",
    "# Huấn luyện mô hình\n",
    "model.fit(X_train, y_train)\n",
    "\n",
    "# Dự đoán trên tập kiểm tra\n",
    "y_pred = model.predict(X_test)\n",
    "\n",
    "# Đánh giá mô hình\n",
    "accuracy = accuracy_score(y_test, y_pred)\n",
    "print(f'\\nĐộ chính xác: {accuracy:.2f}')\n",
    "\n",
    "# In báo cáo phân loại\n",
    "print(\"\\nBáo cáo phân loại:\")\n",
    "print(classification_report(y_test, y_pred))\n"
   ]
  }
 ],
 "metadata": {
  "kernelspec": {
   "display_name": "Python 3",
   "language": "python",
   "name": "python3"
  },
  "language_info": {
   "codemirror_mode": {
    "name": "ipython",
    "version": 3
   },
   "file_extension": ".py",
   "mimetype": "text/x-python",
   "name": "python",
   "nbconvert_exporter": "python",
   "pygments_lexer": "ipython3",
   "version": "3.11.9"
  }
 },
 "nbformat": 4,
 "nbformat_minor": 2
}
